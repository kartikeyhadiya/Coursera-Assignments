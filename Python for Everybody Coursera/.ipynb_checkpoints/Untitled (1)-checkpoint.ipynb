{
 "cells": [
  {
   "cell_type": "code",
   "execution_count": 1,
   "metadata": {},
   "outputs": [],
   "source": []
  },
  {
   "cell_type": "markdown",
   "metadata": {},
   "source": [
    "# Assignment 1"
   ]
  },
  {
   "cell_type": "code",
   "execution_count": 16,
   "metadata": {},
   "outputs": [
    {
     "name": "stdout",
     "output_type": "stream",
     "text": [
      "there are  100 values with a sum of  470520\n"
     ]
    }
   ],
   "source": [
    "import re\n",
    "fname=open(\"regex_sum_523065.txt\")\n",
    "summ=0\n",
    "count=0\n",
    "for line in fname:\n",
    "    f=re.findall('[0-9]+',line)\n",
    "    for num in f:\n",
    "        count+=1\n",
    "        summ=summ+(int(num))\n",
    "print (\"there are \",count,\"values with a sum of \",summ)"
   ]
  },
  {
   "cell_type": "markdown",
   "metadata": {},
   "source": [
    "# Assignment 2.1"
   ]
  },
  {
   "cell_type": "code",
   "execution_count": 17,
   "metadata": {},
   "outputs": [],
   "source": [
    "import urllib.request,urllib.parse,urllib.error\n",
    "from bs4 import BeautifulSoup\n",
    "import ssl\n",
    "\n",
    "ctx=ssl.create_default_context()\n",
    "ctx.check_hostname=False\n",
    "ctx.verify_mode=ssl.CERT_NONE"
   ]
  },
  {
   "cell_type": "code",
   "execution_count": 19,
   "metadata": {},
   "outputs": [],
   "source": [
    "link= \"http://py4e-data.dr-chuck.net/comments_523067.html\"\n",
    "html=urllib.request.urlopen(link,context=ctx).read()\n",
    "soup=BeautifulSoup(html,'html.parser')"
   ]
  },
  {
   "cell_type": "code",
   "execution_count": 20,
   "metadata": {},
   "outputs": [
    {
     "name": "stdout",
     "output_type": "stream",
     "text": [
      "count is  50\n",
      "sum is  2447\n"
     ]
    }
   ],
   "source": [
    "tags=soup('span')\n",
    "s=0\n",
    "c=0\n",
    "for tag in tags:\n",
    "    c+=1\n",
    "    s+=int(tag.contents[0])\n",
    "print (\"count is \", c)\n",
    "print (\"sum is \",s)"
   ]
  },
  {
   "cell_type": "markdown",
   "metadata": {},
   "source": [
    "# Assignment 2.2 "
   ]
  },
  {
   "cell_type": "code",
   "execution_count": 3,
   "metadata": {},
   "outputs": [],
   "source": [
    "import urllib.request,urllib.parse,urllib.error\n",
    "from bs4 import BeautifulSoup\n",
    "import ssl\n",
    "import urllib\n",
    "\n",
    "ctx=ssl.create_default_context()\n",
    "ctx.check_hostname=False\n",
    "ctx.verify_mode=ssl.CERT_NONE"
   ]
  },
  {
   "cell_type": "code",
   "execution_count": 6,
   "metadata": {},
   "outputs": [
    {
     "name": "stdout",
     "output_type": "stream",
     "text": [
      "Enter URL:http://py4e-data.dr-chuck.net/known_by_Rachna.html\n",
      "Enter count:7\n",
      "Enter position:18\n",
      "Retriving:  http://py4e-data.dr-chuck.net/known_by_Rachna.html\n"
     ]
    },
    {
     "name": "stderr",
     "output_type": "stream",
     "text": [
      "C:\\Users\\Hanan\\Anaconda3\\lib\\site-packages\\bs4\\__init__.py:181: UserWarning: No parser was explicitly specified, so I'm using the best available HTML parser for this system (\"lxml\"). This usually isn't a problem, but if you run this code on another system, or in a different virtual environment, it may use a different parser and behave differently.\n",
      "\n",
      "The code that caused this warning is on line 193 of the file C:\\Users\\Hanan\\Anaconda3\\lib\\runpy.py. To get rid of this warning, change code that looks like this:\n",
      "\n",
      " BeautifulSoup(YOUR_MARKUP})\n",
      "\n",
      "to this:\n",
      "\n",
      " BeautifulSoup(YOUR_MARKUP, \"lxml\")\n",
      "\n",
      "  markup_type=markup_type))\n"
     ]
    },
    {
     "name": "stdout",
     "output_type": "stream",
     "text": [
      "Jazeb\n"
     ]
    }
   ],
   "source": [
    "link=input(\"Enter URL:\")\n",
    "count=int(input(\"Enter count:\"))\n",
    "pos=int(input(\"Enter position:\"))\n",
    "\n",
    "print (\"Retriving: \",link)\n",
    "for i in range(0,count):\n",
    "    html=urllib.request.urlopen(link).read()\n",
    "    soup=BeautifulSoup(html)\n",
    "    tags=soup('a')\n",
    "    \n",
    "    link=tags[pos-1].get('href')\n",
    "\n",
    "result=tags[pos-1].contents[0]\n",
    "print (result)\n",
    "    "
   ]
  },
  {
   "cell_type": "markdown",
   "metadata": {},
   "source": [
    "### Assignemt 5"
   ]
  },
  {
   "cell_type": "code",
   "execution_count": 3,
   "metadata": {},
   "outputs": [
    {
     "name": "stdout",
     "output_type": "stream",
     "text": [
      "Enter Urlhttp://py4e-data.dr-chuck.net/comments_523069.xml\n",
      "2578\n"
     ]
    }
   ],
   "source": [
    "import urllib\n",
    "import json\n",
    "import xml.etree.ElementTree as ET\n",
    "url=input(\"Enter Url\")\n",
    "u=urllib.request.urlopen(url)\n",
    "data=u.read()\n",
    "xml_data=ET.fromstring(data)\n",
    "search_str=\"comments/comment\"\n",
    "count_tags=xml_data.findall(search_str)\n",
    "\n",
    "total=0\n",
    "for tags in count_tags:\n",
    "    c=tags.find('count')\n",
    "    total+=int(c.text)\n",
    "    \n",
    "print(total)"
   ]
  },
  {
   "cell_type": "code",
   "execution_count": null,
   "metadata": {},
   "outputs": [],
   "source": []
  },
  {
   "cell_type": "code",
   "execution_count": null,
   "metadata": {},
   "outputs": [],
   "source": []
  },
  {
   "cell_type": "code",
   "execution_count": 4,
   "metadata": {},
   "outputs": [
    {
     "name": "stdout",
     "output_type": "stream",
     "text": [
      "Enter Urlhttp://py4e-data.dr-chuck.net/comments_523070.json\n",
      "2691\n"
     ]
    }
   ],
   "source": [
    "import urllib\n",
    "import json\n",
    "url=input(\"Enter Url\")\n",
    "u=urllib.request.urlopen(url)\n",
    "dat=u.read()\n",
    "data=json.loads(dat)\n",
    "\n",
    "total=0\n",
    "for tags in data['comments']:\n",
    "    total+=tags[\"count\"]\n",
    "print(total)"
   ]
  },
  {
   "cell_type": "code",
   "execution_count": null,
   "metadata": {},
   "outputs": [],
   "source": []
  },
  {
   "cell_type": "code",
   "execution_count": null,
   "metadata": {},
   "outputs": [],
   "source": []
  },
  {
   "cell_type": "code",
   "execution_count": 2,
   "metadata": {},
   "outputs": [],
   "source": [
    "# import urllib\n",
    "# import json\n",
    "# u = 'http://py4e-data.dr-chuck.net/json?'\n",
    "# address_i= input(\"Enter address\")\n",
    "# url=u+urllib.parse.urlencode({'address':address_i})\n",
    "# print(\"Reteriving \",url)\n",
    "# u=urllib.request.urlopen(url)\n",
    "# data=u.read().decode('utf-8')\n",
    "# print(\"retrived \",len(data), \"characters\")\n",
    "# js=json.loads(data)\n",
    "\n",
    "# print (js)\n",
    "# # place_id=js['results'][0]['place_id']\n",
    "# # print(place_id)"
   ]
  },
  {
   "cell_type": "code",
   "execution_count": null,
   "metadata": {},
   "outputs": [],
   "source": []
  },
  {
   "cell_type": "code",
   "execution_count": null,
   "metadata": {},
   "outputs": [
    {
     "name": "stdout",
     "output_type": "stream",
     "text": [
      "Enter location: Universidad de la Sabana\n",
      "Retrieving http://py4e-data.dr-chuck.net/json?address=Universidad+de+la+Sabana&key=42\n",
      "Retrieved 1825 characters\n",
      "{\n",
      "    \"results\": [\n",
      "        {\n",
      "            \"access_points\": [],\n",
      "            \"address_components\": [\n",
      "                {\n",
      "                    \"long_name\": \"Ch\\u00eda\",\n",
      "                    \"short_name\": \"Ch\\u00eda\",\n",
      "                    \"types\": [\n",
      "                        \"locality\",\n",
      "                        \"political\"\n",
      "                    ]\n",
      "                },\n",
      "                {\n",
      "                    \"long_name\": \"Ch\\u00eda\",\n",
      "                    \"short_name\": \"Ch\\u00eda\",\n",
      "                    \"types\": [\n",
      "                        \"administrative_area_level_2\",\n",
      "                        \"political\"\n",
      "                    ]\n",
      "                },\n",
      "                {\n",
      "                    \"long_name\": \"Cundinamarca\",\n",
      "                    \"short_name\": \"Cundinamarca\",\n",
      "                    \"types\": [\n",
      "                        \"administrative_area_level_1\",\n",
      "                        \"political\"\n",
      "                    ]\n",
      "                },\n",
      "                {\n",
      "                    \"long_name\": \"Colombia\",\n",
      "                    \"short_name\": \"CO\",\n",
      "                    \"types\": [\n",
      "                        \"country\",\n",
      "                        \"political\"\n",
      "                    ]\n",
      "                },\n",
      "                {\n",
      "                    \"long_name\": \"250001\",\n",
      "                    \"short_name\": \"250001\",\n",
      "                    \"types\": [\n",
      "                        \"postal_code\"\n",
      "                    ]\n",
      "                }\n",
      "            ],\n",
      "            \"formatted_address\": \"Ch\\u00eda, Cundinamarca, Colombia\",\n",
      "            \"geometry\": {\n",
      "                \"location\": {\n",
      "                    \"lat\": 4.8615787,\n",
      "                    \"lng\": -74.0325368\n",
      "                },\n",
      "                \"location_type\": \"GEOMETRIC_CENTER\",\n",
      "                \"viewport\": {\n",
      "                    \"northeast\": {\n",
      "                        \"lat\": 4.862927680291502,\n",
      "                        \"lng\": -74.03118781970849\n",
      "                    },\n",
      "                    \"southwest\": {\n",
      "                        \"lat\": 4.860229719708498,\n",
      "                        \"lng\": -74.0338857802915\n",
      "                    }\n",
      "                }\n",
      "            },\n",
      "            \"place_id\": \"ChIJ0dzQiP6HP44RpPAK-KBoDlk\",\n",
      "            \"plus_code\": {\n",
      "                \"compound_code\": \"VX68+JX Ch\\u00eda, Cundinamarca, Colombia\",\n",
      "                \"global_code\": \"67P7VX68+JX\"\n",
      "            },\n",
      "            \"types\": [\n",
      "                \"establishment\",\n",
      "                \"point_of_interest\",\n",
      "                \"university\"\n",
      "            ]\n",
      "        }\n",
      "    ],\n",
      "    \"status\": \"OK\"\n",
      "}\n",
      "lat 4.8615787 lng -74.0325368\n",
      "Chía, Cundinamarca, Colombia\n"
     ]
    }
   ],
   "source": [
    "import urllib.request, urllib.parse, urllib.error\n",
    "import json\n",
    "import ssl\n",
    "\n",
    "api_key = False\n",
    "# If you have a Google Places API key, enter it here\n",
    "# api_key = 'AIzaSy___IDByT70'\n",
    "# https://developers.google.com/maps/documentation/geocoding/intro\n",
    "\n",
    "if api_key is False:\n",
    "    api_key = 42\n",
    "    serviceurl = 'http://py4e-data.dr-chuck.net/json?'\n",
    "else :\n",
    "    serviceurl = 'https://maps.googleapis.com/maps/api/geocode/json?'\n",
    "\n",
    "# Ignore SSL certificate errors\n",
    "ctx = ssl.create_default_context()\n",
    "ctx.check_hostname = False\n",
    "ctx.verify_mode = ssl.CERT_NONE\n",
    "\n",
    "while True:\n",
    "    address = input('Enter location: ')\n",
    "    if len(address) < 1: break\n",
    "\n",
    "    parms = dict()\n",
    "    parms['address'] = address\n",
    "    if api_key is not False: parms['key'] = api_key\n",
    "    url = serviceurl + urllib.parse.urlencode(parms)\n",
    "\n",
    "    print('Retrieving', url)\n",
    "    uh = urllib.request.urlopen(url, context=ctx)\n",
    "    data = uh.read().decode()\n",
    "    print('Retrieved', len(data), 'characters')\n",
    "\n",
    "    try:\n",
    "        js = json.loads(data)\n",
    "    except:\n",
    "        js = None\n",
    "\n",
    "    if not js or 'status' not in js or js['status'] != 'OK':\n",
    "        print('==== Failure To Retrieve ====')\n",
    "        print(data)\n",
    "        continue\n",
    "\n",
    "    print(json.dumps(js, indent=4))\n",
    "\n",
    "    lat = js['results'][0]['geometry']['location']['lat']\n",
    "    lng = js['results'][0]['geometry']['location']['lng']\n",
    "    print('lat', lat, 'lng', lng)\n",
    "    location = js['results'][0]['formatted_address']\n",
    "    print(location)"
   ]
  },
  {
   "cell_type": "code",
   "execution_count": 2,
   "metadata": {},
   "outputs": [
    {
     "name": "stdout",
     "output_type": "stream",
     "text": [
      "HTTP/1.1 200 OK\r\n",
      "Date: Thu, 21 May 2020 22:58:02 GMT\r\n",
      "Server: Apache/2.4.18 (Ubuntu)\r\n",
      "Last-Modified: Sat, 13 May 2017 11:22:22 GMT\r\n",
      "ETag: \"1d3-54f6609240717\"\r\n",
      "Accept-Ranges: bytes\r\n",
      "Content-Length: 467\r\n",
      "Cache-Control: max-age=0, no-cache, no-store, must-revalidate\r\n",
      "Pragma: no-cache\r\n",
      "Expires: Wed, 11 Jan 1984 05:00:00 GMT\r\n",
      "Connection: close\r\n",
      "Content-Type: text/plain\r\n",
      "\r\n",
      "Why should you learn to write programs?\n",
      "\n",
      "Writing programs (or programming) is a very creative \n",
      "and rewarding activity.  You can write programs for \n",
      "many reasons, ranging from making your living to solving\n",
      "a difficult data analysis problem to having fun to helping\n",
      "someone else solve a problem.  This book assumes that \n",
      "everyone needs to know how to program, and that once \n",
      "you know how to program you will figure out what you want \n",
      "to do with your newfound skills.  \n"
     ]
    }
   ],
   "source": [
    "import socket\n",
    "\n",
    "mysock = socket.socket(socket.AF_INET, socket.SOCK_STREAM)\n",
    "mysock.connect(('data.pr4e.org', 80))\n",
    "cmd = 'GET http://data.pr4e.org/intro-short.txt HTTP/1.0\\r\\n\\r\\n'.encode()\n",
    "mysock.send(cmd)\n",
    "\n",
    "while True:\n",
    "    data = mysock.recv(512)\n",
    "    if len(data) < 1:\n",
    "        break\n",
    "    print(data.decode(),end='')\n",
    "\n",
    "mysock.close()"
   ]
  },
  {
   "cell_type": "code",
   "execution_count": null,
   "metadata": {},
   "outputs": [],
   "source": []
  }
 ],
 "metadata": {
  "kernelspec": {
   "display_name": "Python 3",
   "language": "python",
   "name": "python3"
  },
  "language_info": {
   "codemirror_mode": {
    "name": "ipython",
    "version": 3
   },
   "file_extension": ".py",
   "mimetype": "text/x-python",
   "name": "python",
   "nbconvert_exporter": "python",
   "pygments_lexer": "ipython3",
   "version": "3.8.3"
  }
 },
 "nbformat": 4,
 "nbformat_minor": 2
}
